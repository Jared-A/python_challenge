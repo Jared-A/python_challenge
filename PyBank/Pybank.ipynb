{
 "cells": [
  {
   "cell_type": "code",
   "execution_count": 12,
   "metadata": {},
   "outputs": [],
   "source": [
    "import os, csv\n"
   ]
  },
  {
   "cell_type": "code",
   "execution_count": 13,
   "metadata": {},
   "outputs": [
    {
     "name": "stdout",
     "output_type": "stream",
     "text": [
      "['Date', 'Profit/Losses']\n",
      "['Jan-2010', '867884']\n",
      "['Feb-2010', '984655']\n",
      "['Mar-2010', '322013']\n",
      "['Apr-2010', '-69417']\n",
      "['May-2010', '310503']\n",
      "['Jun-2010', '522857']\n",
      "['Jul-2010', '1033096']\n",
      "['Aug-2010', '604885']\n",
      "['Sep-2010', '-216386']\n",
      "['Oct-2010', '477532']\n",
      "['Nov-2010', '893810']\n",
      "['Dec-2010', '-80353']\n",
      "['Jan-2011', '779806']\n",
      "['Feb-2011', '-335203']\n",
      "['Mar-2011', '697845']\n",
      "['Apr-2011', '793163']\n",
      "['May-2011', '485070']\n",
      "['Jun-2011', '584122']\n",
      "['Jul-2011', '62729']\n",
      "['Aug-2011', '668179']\n",
      "['Sep-2011', '899906']\n",
      "['Oct-2011', '834719']\n",
      "['Nov-2011', '132003']\n",
      "['Dec-2011', '309978']\n",
      "['Jan-2012', '-755566']\n",
      "['Feb-2012', '1170593']\n",
      "['Mar-2012', '252788']\n",
      "['Apr-2012', '1151518']\n",
      "['May-2012', '817256']\n",
      "['Jun-2012', '570757']\n",
      "['Jul-2012', '506702']\n",
      "['Aug-2012', '-1022534']\n",
      "['Sep-2012', '475062']\n",
      "['Oct-2012', '779976']\n",
      "['Nov-2012', '144175']\n",
      "['Dec-2012', '542494']\n",
      "['Jan-2013', '359333']\n",
      "['Feb-2013', '321469']\n",
      "['Mar-2013', '67780']\n",
      "['Apr-2013', '471435']\n",
      "['May-2013', '565603']\n",
      "['Jun-2013', '872480']\n",
      "['Jul-2013', '789480']\n",
      "['Aug-2013', '999942']\n",
      "['Sep-2013', '-1196225']\n",
      "['Oct-2013', '268997']\n",
      "['Nov-2013', '-687986']\n",
      "['Dec-2013', '1150461']\n",
      "['Jan-2014', '682458']\n",
      "['Feb-2014', '617856']\n",
      "['Mar-2014', '824098']\n",
      "['Apr-2014', '581943']\n",
      "['May-2014', '132864']\n",
      "['Jun-2014', '448062']\n",
      "['Jul-2014', '689161']\n",
      "['Aug-2014', '800701']\n",
      "['Sep-2014', '1166643']\n",
      "['Oct-2014', '947333']\n",
      "['Nov-2014', '578668']\n",
      "['Dec-2014', '988505']\n",
      "['Jan-2015', '1139715']\n",
      "['Feb-2015', '1029471']\n",
      "['Mar-2015', '687533']\n",
      "['Apr-2015', '-524626']\n",
      "['May-2015', '158620']\n",
      "['Jun-2015', '87795']\n",
      "['Jul-2015', '423389']\n",
      "['Aug-2015', '840723']\n",
      "['Sep-2015', '568529']\n",
      "['Oct-2015', '332067']\n",
      "['Nov-2015', '989499']\n",
      "['Dec-2015', '778237']\n",
      "['Jan-2016', '650000']\n",
      "['Feb-2016', '-1100387']\n",
      "['Mar-2016', '-174946']\n",
      "['Apr-2016', '757143']\n",
      "['May-2016', '445709']\n",
      "['Jun-2016', '712961']\n",
      "['Jul-2016', '-1163797']\n",
      "['Aug-2016', '569899']\n",
      "['Sep-2016', '768450']\n",
      "['Oct-2016', '102685']\n",
      "['Nov-2016', '795914']\n",
      "['Dec-2016', '60988']\n",
      "['Jan-2017', '138230']\n",
      "['Feb-2017', '671099']\n"
     ]
    }
   ],
   "source": [
    "with open('budget_data.csv') as file:\n",
    "    my_reader = csv.reader(file, delimiter=',')\n",
    "    for row in my_reader:\n",
    "        print(row)"
   ]
  },
  {
   "cell_type": "code",
   "execution_count": 20,
   "metadata": {},
   "outputs": [],
   "source": [
    "import os\n",
    "import csv"
   ]
  },
  {
   "cell_type": "code",
   "execution_count": 21,
   "metadata": {},
   "outputs": [],
   "source": [
    "# Variables\n",
    "total_months = 0\n",
    "net_amount = 0\n",
    "monthly_change = []\n",
    "month_count = []\n",
    "greatest_increase = 0\n",
    "greatest_increase_month = 0\n",
    "greatest_decrease = 0\n",
    "greatest_decrease_month = 0"
   ]
  },
  {
   "cell_type": "code",
   "execution_count": 22,
   "metadata": {},
   "outputs": [
    {
     "data": {
      "text/plain": [
       "'PyBank\\\\budget_data.csv'"
      ]
     },
     "execution_count": 22,
     "metadata": {},
     "output_type": "execute_result"
    }
   ],
   "source": [
    "# Set Path For File\n",
    "csvpath = os.path.join('PyBank', 'budget_data.csv')\n",
    "\n",
    "csvpath"
   ]
  },
  {
   "cell_type": "code",
   "execution_count": 23,
   "metadata": {},
   "outputs": [],
   "source": [
    "# # Open & Read CSV File\n",
    "# with open('budget_data.csv', newline='') as csvfile:\n",
    "    \n",
    "#     # CSV Reader Specifies Delimiter & Variable That Holds Contents\n",
    "#     csvreader = csv.reader(csvfile, delimiter=',')\n",
    "    \n",
    "#     # Read The Header Row First (Skip This Step If There Is No Header)\n",
    "#     csv_header = next(csvreader)\n",
    "#     row = next(csvreader)\n",
    "\n",
    "with open('budget_data.csv') as file:\n",
    "    csvreader = csv.reader(file, delimiter=',')\n",
    "    csv_header = next(csvreader)\n",
    "    row = next(csvreader)\n",
    "        \n",
    "        # Calculate Total Number Of Months, Net Amount Of \"Profit/Losses\" & Set Variables For Rows\n",
    "    previous_row = int(row[1])\n",
    "    total_months += 1\n",
    "    net_amount += int(row[1])\n",
    "    greatest_increase = int(row[1])\n",
    "    greatest_increase_month = row[0]\n",
    "\n",
    "    # Read Each Row Of Data After The Header\n",
    "    for row in csvreader:\n",
    "\n",
    "        # Calculate Total Number Of Months Included In Dataset\n",
    "        total_months += 1\n",
    "        # Calculate Net Amount Of \"Profit/Losses\" Over The Entire Period\n",
    "        net_amount += int(row[1])\n",
    "\n",
    "        # Calculate Change From Current Month To Previous Month\n",
    "        revenue_change = int(row[1]) - previous_row\n",
    "        monthly_change.append(revenue_change)\n",
    "        previous_row = int(row[1])\n",
    "        month_count.append(row[0])\n",
    "\n",
    "        # Calculate The Greatest Increase\n",
    "        if int(row[1]) > greatest_increase:\n",
    "            greatest_increase = int(row[1])\n",
    "            greatest_increase_month = row[0]\n",
    "\n",
    "        # Calculate The Greatest Decrease\n",
    "        if int(row[1]) < greatest_decrease:\n",
    "            greatest_decrease = int(row[1])\n",
    "            greatest_decrease_month = row[0]  \n",
    "\n",
    "    # Calculate The Average & The Date\n",
    "    average_change = sum(monthly_change)/ len(monthly_change)\n",
    "\n",
    "    highest = max(monthly_change)\n",
    "    lowest = min(monthly_change)"
   ]
  },
  {
   "cell_type": "code",
   "execution_count": 24,
   "metadata": {},
   "outputs": [
    {
     "name": "stdout",
     "output_type": "stream",
     "text": [
      "Financial Analysis\n",
      "---------------------------\n",
      "Total Months: 86\n",
      "Total: $38382578\n",
      "Average Change: $-2315.12\n",
      "Greatest Increase in Profits:, Feb-2012, ($1926159)\n",
      "Greatest Decrease in Profits:, Sep-2013, ($-2196167)\n"
     ]
    }
   ],
   "source": [
    "# Print Analysis\n",
    "print(f\"Financial Analysis\")\n",
    "print(f\"---------------------------\")\n",
    "print(f\"Total Months: {total_months}\")\n",
    "print(f\"Total: ${net_amount}\")\n",
    "print(f\"Average Change: ${average_change:.2f}\")\n",
    "print(f\"Greatest Increase in Profits:, {greatest_increase_month}, (${highest})\")\n",
    "print(f\"Greatest Decrease in Profits:, {greatest_decrease_month}, (${lowest})\")"
   ]
  },
  {
   "cell_type": "code",
   "execution_count": 25,
   "metadata": {},
   "outputs": [
    {
     "ename": "NameError",
     "evalue": "name 'total_profit_loss' is not defined",
     "output_type": "error",
     "traceback": [
      "\u001b[1;31m---------------------------------------------------------------------------\u001b[0m",
      "\u001b[1;31mNameError\u001b[0m                                 Traceback (most recent call last)",
      "\u001b[1;32m<ipython-input-25-3d1da7c60b8e>\u001b[0m in \u001b[0;36m<module>\u001b[1;34m\u001b[0m\n\u001b[0;32m      4\u001b[0m \u001b[0mf\u001b[0m\u001b[1;33m.\u001b[0m\u001b[0mwrite\u001b[0m\u001b[1;33m(\u001b[0m\u001b[1;34m\"----------------------------\\n\"\u001b[0m\u001b[1;33m)\u001b[0m\u001b[1;33m\u001b[0m\u001b[1;33m\u001b[0m\u001b[0m\n\u001b[0;32m      5\u001b[0m \u001b[0mf\u001b[0m\u001b[1;33m.\u001b[0m\u001b[0mwrite\u001b[0m\u001b[1;33m(\u001b[0m\u001b[1;34m\"Total Months: \"\u001b[0m \u001b[1;33m+\u001b[0m \u001b[0mstr\u001b[0m\u001b[1;33m(\u001b[0m\u001b[0mtotal_months\u001b[0m\u001b[1;33m)\u001b[0m \u001b[1;33m+\u001b[0m \u001b[1;34m\"\\n\"\u001b[0m\u001b[1;33m)\u001b[0m\u001b[1;33m\u001b[0m\u001b[1;33m\u001b[0m\u001b[0m\n\u001b[1;32m----> 6\u001b[1;33m \u001b[0mf\u001b[0m\u001b[1;33m.\u001b[0m\u001b[0mwrite\u001b[0m\u001b[1;33m(\u001b[0m\u001b[1;34m\"Total: $\"\u001b[0m \u001b[1;33m+\u001b[0m \u001b[0mstr\u001b[0m\u001b[1;33m(\u001b[0m\u001b[0mtotal_profit_loss\u001b[0m\u001b[1;33m)\u001b[0m \u001b[1;33m+\u001b[0m \u001b[1;34m\"\\n\"\u001b[0m\u001b[1;33m)\u001b[0m\u001b[1;33m\u001b[0m\u001b[1;33m\u001b[0m\u001b[0m\n\u001b[0m\u001b[0;32m      7\u001b[0m \u001b[0mf\u001b[0m\u001b[1;33m.\u001b[0m\u001b[0mwrite\u001b[0m\u001b[1;33m(\u001b[0m\u001b[1;34m\"Average Change: $\"\u001b[0m \u001b[1;33m+\u001b[0m \u001b[0mstr\u001b[0m\u001b[1;33m(\u001b[0m\u001b[0mformat\u001b[0m\u001b[1;33m(\u001b[0m\u001b[0maverage_month_change\u001b[0m\u001b[1;33m,\u001b[0m \u001b[1;34m'.2f'\u001b[0m\u001b[1;33m)\u001b[0m\u001b[1;33m)\u001b[0m \u001b[1;33m+\u001b[0m \u001b[1;34m\"\\n\"\u001b[0m\u001b[1;33m)\u001b[0m\u001b[1;33m\u001b[0m\u001b[1;33m\u001b[0m\u001b[0m\n\u001b[0;32m      8\u001b[0m f.write(\"Greatest Increase in Profits: \" + greatest_increase_month \n",
      "\u001b[1;31mNameError\u001b[0m: name 'total_profit_loss' is not defined"
     ]
    }
   ],
   "source": [
    "# Write to text file\n",
    "f = open(\"analysis.txt\", \"w\")\n",
    "f.write(\"Financial Analysis\\n\")\n",
    "f.write(\"----------------------------\\n\")        \n",
    "f.write(\"Total Months: \" + str(total_months) + \"\\n\")\n",
    "f.write(\"Total: $\" + str(total_profit_loss) + \"\\n\")\n",
    "f.write(\"Average Change: $\" + str(format(average_month_change, '.2f')) + \"\\n\")\n",
    "f.write(\"Greatest Increase in Profits: \" + greatest_increase_month \n",
    "      + \" ($\" + str(greatest_increase) + \")\\n\")\n",
    "f.write(\"Greatest Decrease in Profits: \" + greatest_decrease_month \n",
    "      + \" ($\" + str(greatest_decrease) + \")\\n\")\n",
    "f.close()"
   ]
  },
  {
   "cell_type": "code",
   "execution_count": null,
   "metadata": {},
   "outputs": [],
   "source": []
  }
 ],
 "metadata": {
  "kernelspec": {
   "display_name": "Python 3",
   "language": "python",
   "name": "python3"
  },
  "language_info": {
   "codemirror_mode": {
    "name": "ipython",
    "version": 3
   },
   "file_extension": ".py",
   "mimetype": "text/x-python",
   "name": "python",
   "nbconvert_exporter": "python",
   "pygments_lexer": "ipython3",
   "version": "3.7.4"
  }
 },
 "nbformat": 4,
 "nbformat_minor": 2
}
